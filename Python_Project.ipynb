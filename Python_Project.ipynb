{
  "nbformat": 4,
  "nbformat_minor": 0,
  "metadata": {
    "colab": {
      "provenance": [],
      "authorship_tag": "ABX9TyPUejLlHO5VLlURZvQS0zs/",
      "include_colab_link": true
    },
    "kernelspec": {
      "name": "python3",
      "display_name": "Python 3"
    },
    "language_info": {
      "name": "python"
    }
  },
  "cells": [
    {
      "cell_type": "markdown",
      "metadata": {
        "id": "view-in-github",
        "colab_type": "text"
      },
      "source": [
        "<a href=\"https://colab.research.google.com/github/Revathy-3/PYTHON_CLASS/blob/main/Python_Project.ipynb\" target=\"_parent\"><img src=\"https://colab.research.google.com/assets/colab-badge.svg\" alt=\"Open In Colab\"/></a>"
      ]
    },
    {
      "cell_type": "code",
      "execution_count": null,
      "metadata": {
        "id": "aPiD9SYXAY9n"
      },
      "outputs": [],
      "source": []
    },
    {
      "cell_type": "markdown",
      "source": [],
      "metadata": {
        "id": "LLQf7MLtAwUc"
      }
    },
    {
      "cell_type": "markdown",
      "source": [
        "**Import necessary libraries and load the dataset**\n",
        "---\n",
        "\n",
        "\n",
        "\n",
        "\n",
        "> Add blockquote\n",
        "\n"
      ],
      "metadata": {
        "id": "z1sglDCSB3UY"
      }
    },
    {
      "cell_type": "code",
      "source": [
        "import pandas as pd\n",
        "\n",
        "# Load the dataset\n",
        "df = pd.read_csv('YOUTUBE CHANNELS DATASET.csv')\n"
      ],
      "metadata": {
        "id": "D_eE1nMCCB8E"
      },
      "execution_count": 6,
      "outputs": []
    },
    {
      "cell_type": "markdown",
      "source": [
        "**Variables, Lists, Dictionaries**"
      ],
      "metadata": {
        "id": "POqj-192Ek62"
      }
    },
    {
      "cell_type": "code",
      "source": [
        "# Variable to store the channel with the most subscribers\n",
        "most_subscribed_channel = \"\"\n",
        "\n",
        "# List to store the names of channels with over 1 million subscribers\n",
        "million_subs_channels = []\n",
        "\n",
        "# Dictionary to store channel name and its category\n",
        "channel_categories = {}"
      ],
      "metadata": {
        "id": "mnkXH665CQgV"
      },
      "execution_count": 9,
      "outputs": []
    },
    {
      "cell_type": "markdown",
      "source": [
        "**Convert subscriber cpunt to a numerical value**\n",
        "\n",
        "\n"
      ],
      "metadata": {
        "id": "BQybaBxeF2N4"
      }
    },
    {
      "cell_type": "code",
      "source": [
        "# Function to convert subscriber count to a numerical value\n",
        "def convert_subscriber_count(count):\n",
        "    \"\"\"Converts subscriber count string to a numerical value.\"\"\"\n",
        "    if isinstance(count, str):\n",
        "        count = count.strip()  # Remove leading/trailing spaces\n",
        "        if count.endswith('K'):\n",
        "            return float(count[:-1]) * 1000\n",
        "        elif count.endswith('M'):\n",
        "            return float(count[:-1]) * 1000000\n",
        "        elif count.endswith('B'):\n",
        "            return float(count[:-1]) * 1000000000\n",
        "        else:\n",
        "            try:\n",
        "                return float(count)\n",
        "            except ValueError:\n",
        "                return float('nan')  # Handle invalid values as NaN\n",
        "    else:\n",
        "        return float(count)  # Handle numerical values if any\n",
        "\n",
        "# Apply the conversion function to the 'Subscribers' column\n",
        "df['Subscribers'] = df['Subscribers'].apply(convert_subscriber_count)"
      ],
      "metadata": {
        "id": "Pi0kJwz5F-3p"
      },
      "execution_count": 12,
      "outputs": []
    },
    {
      "cell_type": "markdown",
      "source": [
        "**Loops and Conditional Statements**\n",
        "\n",
        "\n",
        "\n",
        "\n",
        "\n",
        "\n",
        "\n"
      ],
      "metadata": {
        "id": "76DUuTrRHgQu"
      }
    },
    {
      "cell_type": "code",
      "source": [
        "#Loop through the dataset to find the most subscribed channel\n",
        "for index, row in df.iterrows():\n",
        "    if row['Subscribers'] > df['Subscribers'].max():\n",
        "        most_subscribed_channel = row['Username']\n",
        "\n",
        "# Loop to identify Username with over 1 million subscribers\n",
        "for index, row in df.iterrows():\n",
        "    if row['Subscribers'] > 1000000:\n",
        "        million_subs_channels.append(row['Username'])\n",
        "\n",
        "# Loop to populate the Username_categories dictionary\n",
        "# Assuming 'Channel Type' is the correct column for channel type\n",
        "# **Change 'Username Type' to the actual column name in your DataFrame if it's different.**\n",
        "for index, row in df.iterrows():\n",
        "    # Changed 'Username Type' to 'Username Type' based on available columns in Global Variables\n",
        "    channel_categories[row['Username']] = row['Country']"
      ],
      "metadata": {
        "id": "yFQS7mHMHjVa"
      },
      "execution_count": 21,
      "outputs": []
    },
    {
      "cell_type": "markdown",
      "source": [
        "**Reusable Function**"
      ],
      "metadata": {
        "id": "TWCZuJA5MX-6"
      }
    },
    {
      "cell_type": "code",
      "source": [
        "def get_channel_info(Username):\n",
        "    \"\"\"\n",
        "    This function takes a channel name as input and\n",
        "    returns a dictionary containing its information (Rank, Grade, etc.).\n",
        "\n",
        "    Args:\n",
        "        channel_name: The name of the YouTube channel.\n",
        "\n",
        "    Returns:\n",
        "        A dictionary containing the channel's information.\n",
        "        Returns None if the channel is not found.\n",
        "    \"\"\"\n",
        "    for index, row in df.iterrows():\n",
        "        if row['Username'] == User_name:\n",
        "            return row.to_dict()  # Convert the row to a dictionary\n",
        "    return None  # Return None if channel not found"
      ],
      "metadata": {
        "id": "R2cprrDMIgm6"
      },
      "execution_count": 22,
      "outputs": []
    },
    {
      "cell_type": "markdown",
      "source": [
        "**How to use**"
      ],
      "metadata": {
        "id": "zwdFh_xxNh4z"
      }
    },
    {
      "cell_type": "code",
      "source": [
        "# Get information about a specific channel\n",
        "channel_info = get_channel_info('Cocomelon - Nursery Rhymes')\n",
        "print(channel_info)\n",
        "\n",
        "# Print the channel with the most subscribers\n",
        "print(f\"The most subscribed channel is: {most_subscribed_channel}\")"
      ],
      "metadata": {
        "colab": {
          "base_uri": "https://localhost:8080/",
          "height": 346
        },
        "id": "7jH_XaRbNq3r",
        "outputId": "621f3b9d-bcaa-44d0-b65c-17216fed139c"
      },
      "execution_count": 28,
      "outputs": [
        {
          "output_type": "error",
          "ename": "NameError",
          "evalue": "name 'User_name' is not defined",
          "traceback": [
            "\u001b[0;31m---------------------------------------------------------------------------\u001b[0m",
            "\u001b[0;31mNameError\u001b[0m                                 Traceback (most recent call last)",
            "\u001b[0;32m<ipython-input-28-f0bcaf6d3a11>\u001b[0m in \u001b[0;36m<cell line: 0>\u001b[0;34m()\u001b[0m\n\u001b[1;32m      1\u001b[0m \u001b[0;31m# Get information about a specific channel\u001b[0m\u001b[0;34m\u001b[0m\u001b[0;34m\u001b[0m\u001b[0m\n\u001b[0;32m----> 2\u001b[0;31m \u001b[0mchannel_info\u001b[0m \u001b[0;34m=\u001b[0m \u001b[0mget_channel_info\u001b[0m\u001b[0;34m(\u001b[0m\u001b[0;34m'Cocomelon - Nursery Rhymes'\u001b[0m\u001b[0;34m)\u001b[0m\u001b[0;34m\u001b[0m\u001b[0;34m\u001b[0m\u001b[0m\n\u001b[0m\u001b[1;32m      3\u001b[0m \u001b[0mprint\u001b[0m\u001b[0;34m(\u001b[0m\u001b[0mchannel_info\u001b[0m\u001b[0;34m)\u001b[0m\u001b[0;34m\u001b[0m\u001b[0;34m\u001b[0m\u001b[0m\n\u001b[1;32m      4\u001b[0m \u001b[0;34m\u001b[0m\u001b[0m\n\u001b[1;32m      5\u001b[0m \u001b[0;31m# Print the channel with the most subscribers\u001b[0m\u001b[0;34m\u001b[0m\u001b[0;34m\u001b[0m\u001b[0m\n",
            "\u001b[0;32m<ipython-input-22-055672e924d4>\u001b[0m in \u001b[0;36mget_channel_info\u001b[0;34m(Username)\u001b[0m\n\u001b[1;32m     12\u001b[0m     \"\"\"\n\u001b[1;32m     13\u001b[0m     \u001b[0;32mfor\u001b[0m \u001b[0mindex\u001b[0m\u001b[0;34m,\u001b[0m \u001b[0mrow\u001b[0m \u001b[0;32min\u001b[0m \u001b[0mdf\u001b[0m\u001b[0;34m.\u001b[0m\u001b[0miterrows\u001b[0m\u001b[0;34m(\u001b[0m\u001b[0;34m)\u001b[0m\u001b[0;34m:\u001b[0m\u001b[0;34m\u001b[0m\u001b[0;34m\u001b[0m\u001b[0m\n\u001b[0;32m---> 14\u001b[0;31m         \u001b[0;32mif\u001b[0m \u001b[0mrow\u001b[0m\u001b[0;34m[\u001b[0m\u001b[0;34m'Username'\u001b[0m\u001b[0;34m]\u001b[0m \u001b[0;34m==\u001b[0m \u001b[0mUser_name\u001b[0m\u001b[0;34m:\u001b[0m\u001b[0;34m\u001b[0m\u001b[0;34m\u001b[0m\u001b[0m\n\u001b[0m\u001b[1;32m     15\u001b[0m             \u001b[0;32mreturn\u001b[0m \u001b[0mrow\u001b[0m\u001b[0;34m.\u001b[0m\u001b[0mto_dict\u001b[0m\u001b[0;34m(\u001b[0m\u001b[0;34m)\u001b[0m  \u001b[0;31m# Convert the row to a dictionary\u001b[0m\u001b[0;34m\u001b[0m\u001b[0;34m\u001b[0m\u001b[0m\n\u001b[1;32m     16\u001b[0m     \u001b[0;32mreturn\u001b[0m \u001b[0;32mNone\u001b[0m  \u001b[0;31m# Return None if channel not found\u001b[0m\u001b[0;34m\u001b[0m\u001b[0;34m\u001b[0m\u001b[0m\n",
            "\u001b[0;31mNameError\u001b[0m: name 'User_name' is not defined"
          ]
        }
      ]
    },
    {
      "cell_type": "code",
      "source": [],
      "metadata": {
        "id": "klDrkHCYOTWz"
      },
      "execution_count": null,
      "outputs": []
    }
  ]
}