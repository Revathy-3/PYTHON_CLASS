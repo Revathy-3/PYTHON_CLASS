{
  "nbformat": 4,
  "nbformat_minor": 0,
  "metadata": {
    "colab": {
      "provenance": [],
      "authorship_tag": "ABX9TyM+VCcOCJiBMCujf2pQ1PNC",
      "include_colab_link": true
    },
    "kernelspec": {
      "name": "python3",
      "display_name": "Python 3"
    },
    "language_info": {
      "name": "python"
    }
  },
  "cells": [
    {
      "cell_type": "markdown",
      "metadata": {
        "id": "view-in-github",
        "colab_type": "text"
      },
      "source": [
        "<a href=\"https://colab.research.google.com/github/Revathy-3/PYTHON_CLASS/blob/main/PYTHON_PROJECT.ipynb\" target=\"_parent\"><img src=\"https://colab.research.google.com/assets/colab-badge.svg\" alt=\"Open In Colab\"/></a>"
      ]
    },
    {
      "cell_type": "code",
      "execution_count": 41,
      "metadata": {
        "id": "Sbq5HJrwtrTY"
      },
      "outputs": [],
      "source": [
        "import pandas as pd\n",
        "import numpy as np\n",
        "import matplotlib.pyplot as plt\n",
        "import seaborn as sns"
      ]
    },
    {
      "cell_type": "code",
      "source": [
        "spotify_df = pd.read_csv(\"Most Streamed Spotify Songs 2024.csv\", encoding='latin1')\n",
        "# or 'iso-8859-1' or any other potential encoding"
      ],
      "metadata": {
        "id": "t4GgETuGuAS7"
      },
      "execution_count": 42,
      "outputs": []
    },
    {
      "cell_type": "code",
      "source": [
        "spotify_df.head()"
      ],
      "metadata": {
        "colab": {
          "base_uri": "https://localhost:8080/",
          "height": 429
        },
        "collapsed": true,
        "id": "sN21agvGvOqt",
        "outputId": "7802231f-4297-4262-e412-62202320d76c"
      },
      "execution_count": 44,
      "outputs": [
        {
          "output_type": "execute_result",
          "data": {
            "text/plain": [
              "                        Track                    Album Name          Artist  \\\n",
              "0         MILLION DOLLAR BABY  Million Dollar Baby - Single   Tommy Richman   \n",
              "1                 Not Like Us                   Not Like Us  Kendrick Lamar   \n",
              "2  i like the way you kiss me    I like the way you kiss me         Artemas   \n",
              "3                     Flowers              Flowers - Single     Miley Cyrus   \n",
              "4                     Houdini                       Houdini          Eminem   \n",
              "\n",
              "  Release Date          ISRC All Time Rank  Track Score Spotify Streams  \\\n",
              "0    4/26/2024  QM24S2402528             1        725.4     390,470,936   \n",
              "1     5/4/2024  USUG12400910             2        545.9     323,703,884   \n",
              "2    3/19/2024  QZJ842400387             3        538.4     601,309,283   \n",
              "3    1/12/2023  USSM12209777             4        444.9   2,031,280,633   \n",
              "4    5/31/2024  USUG12403398             5        423.3     107,034,922   \n",
              "\n",
              "  Spotify Playlist Count Spotify Playlist Reach  ...  SiriusXM Spins  \\\n",
              "0                 30,716            196,631,588  ...             684   \n",
              "1                 28,113            174,597,137  ...               3   \n",
              "2                 54,331            211,607,669  ...             536   \n",
              "3                269,802            136,569,078  ...           2,182   \n",
              "4                  7,223            151,469,874  ...               1   \n",
              "\n",
              "  Deezer Playlist Count Deezer Playlist Reach Amazon Playlist Count  \\\n",
              "0                  62.0            17,598,718                 114.0   \n",
              "1                  67.0            10,422,430                 111.0   \n",
              "2                 136.0            36,321,847                 172.0   \n",
              "3                 264.0            24,684,248                 210.0   \n",
              "4                  82.0            17,660,624                 105.0   \n",
              "\n",
              "  Pandora Streams Pandora Track Stations Soundcloud Streams  Shazam Counts  \\\n",
              "0      18,004,655                 22,931          4,818,457      2,669,262   \n",
              "1       7,780,028                 28,444          6,623,075      1,118,279   \n",
              "2       5,022,621                  5,639          7,208,651      5,285,340   \n",
              "3     190,260,277                203,384                NaN     11,822,942   \n",
              "4       4,493,884                  7,006            207,179        457,017   \n",
              "\n",
              "  TIDAL Popularity Explicit Track  \n",
              "0              NaN              0  \n",
              "1              NaN              1  \n",
              "2              NaN              0  \n",
              "3              NaN              0  \n",
              "4              NaN              1  \n",
              "\n",
              "[5 rows x 29 columns]"
            ],
            "text/html": [
              "\n",
              "  <div id=\"df-bf0187b0-5ac6-48b5-9575-c41fc15ab902\" class=\"colab-df-container\">\n",
              "    <div>\n",
              "<style scoped>\n",
              "    .dataframe tbody tr th:only-of-type {\n",
              "        vertical-align: middle;\n",
              "    }\n",
              "\n",
              "    .dataframe tbody tr th {\n",
              "        vertical-align: top;\n",
              "    }\n",
              "\n",
              "    .dataframe thead th {\n",
              "        text-align: right;\n",
              "    }\n",
              "</style>\n",
              "<table border=\"1\" class=\"dataframe\">\n",
              "  <thead>\n",
              "    <tr style=\"text-align: right;\">\n",
              "      <th></th>\n",
              "      <th>Track</th>\n",
              "      <th>Album Name</th>\n",
              "      <th>Artist</th>\n",
              "      <th>Release Date</th>\n",
              "      <th>ISRC</th>\n",
              "      <th>All Time Rank</th>\n",
              "      <th>Track Score</th>\n",
              "      <th>Spotify Streams</th>\n",
              "      <th>Spotify Playlist Count</th>\n",
              "      <th>Spotify Playlist Reach</th>\n",
              "      <th>...</th>\n",
              "      <th>SiriusXM Spins</th>\n",
              "      <th>Deezer Playlist Count</th>\n",
              "      <th>Deezer Playlist Reach</th>\n",
              "      <th>Amazon Playlist Count</th>\n",
              "      <th>Pandora Streams</th>\n",
              "      <th>Pandora Track Stations</th>\n",
              "      <th>Soundcloud Streams</th>\n",
              "      <th>Shazam Counts</th>\n",
              "      <th>TIDAL Popularity</th>\n",
              "      <th>Explicit Track</th>\n",
              "    </tr>\n",
              "  </thead>\n",
              "  <tbody>\n",
              "    <tr>\n",
              "      <th>0</th>\n",
              "      <td>MILLION DOLLAR BABY</td>\n",
              "      <td>Million Dollar Baby - Single</td>\n",
              "      <td>Tommy Richman</td>\n",
              "      <td>4/26/2024</td>\n",
              "      <td>QM24S2402528</td>\n",
              "      <td>1</td>\n",
              "      <td>725.4</td>\n",
              "      <td>390,470,936</td>\n",
              "      <td>30,716</td>\n",
              "      <td>196,631,588</td>\n",
              "      <td>...</td>\n",
              "      <td>684</td>\n",
              "      <td>62.0</td>\n",
              "      <td>17,598,718</td>\n",
              "      <td>114.0</td>\n",
              "      <td>18,004,655</td>\n",
              "      <td>22,931</td>\n",
              "      <td>4,818,457</td>\n",
              "      <td>2,669,262</td>\n",
              "      <td>NaN</td>\n",
              "      <td>0</td>\n",
              "    </tr>\n",
              "    <tr>\n",
              "      <th>1</th>\n",
              "      <td>Not Like Us</td>\n",
              "      <td>Not Like Us</td>\n",
              "      <td>Kendrick Lamar</td>\n",
              "      <td>5/4/2024</td>\n",
              "      <td>USUG12400910</td>\n",
              "      <td>2</td>\n",
              "      <td>545.9</td>\n",
              "      <td>323,703,884</td>\n",
              "      <td>28,113</td>\n",
              "      <td>174,597,137</td>\n",
              "      <td>...</td>\n",
              "      <td>3</td>\n",
              "      <td>67.0</td>\n",
              "      <td>10,422,430</td>\n",
              "      <td>111.0</td>\n",
              "      <td>7,780,028</td>\n",
              "      <td>28,444</td>\n",
              "      <td>6,623,075</td>\n",
              "      <td>1,118,279</td>\n",
              "      <td>NaN</td>\n",
              "      <td>1</td>\n",
              "    </tr>\n",
              "    <tr>\n",
              "      <th>2</th>\n",
              "      <td>i like the way you kiss me</td>\n",
              "      <td>I like the way you kiss me</td>\n",
              "      <td>Artemas</td>\n",
              "      <td>3/19/2024</td>\n",
              "      <td>QZJ842400387</td>\n",
              "      <td>3</td>\n",
              "      <td>538.4</td>\n",
              "      <td>601,309,283</td>\n",
              "      <td>54,331</td>\n",
              "      <td>211,607,669</td>\n",
              "      <td>...</td>\n",
              "      <td>536</td>\n",
              "      <td>136.0</td>\n",
              "      <td>36,321,847</td>\n",
              "      <td>172.0</td>\n",
              "      <td>5,022,621</td>\n",
              "      <td>5,639</td>\n",
              "      <td>7,208,651</td>\n",
              "      <td>5,285,340</td>\n",
              "      <td>NaN</td>\n",
              "      <td>0</td>\n",
              "    </tr>\n",
              "    <tr>\n",
              "      <th>3</th>\n",
              "      <td>Flowers</td>\n",
              "      <td>Flowers - Single</td>\n",
              "      <td>Miley Cyrus</td>\n",
              "      <td>1/12/2023</td>\n",
              "      <td>USSM12209777</td>\n",
              "      <td>4</td>\n",
              "      <td>444.9</td>\n",
              "      <td>2,031,280,633</td>\n",
              "      <td>269,802</td>\n",
              "      <td>136,569,078</td>\n",
              "      <td>...</td>\n",
              "      <td>2,182</td>\n",
              "      <td>264.0</td>\n",
              "      <td>24,684,248</td>\n",
              "      <td>210.0</td>\n",
              "      <td>190,260,277</td>\n",
              "      <td>203,384</td>\n",
              "      <td>NaN</td>\n",
              "      <td>11,822,942</td>\n",
              "      <td>NaN</td>\n",
              "      <td>0</td>\n",
              "    </tr>\n",
              "    <tr>\n",
              "      <th>4</th>\n",
              "      <td>Houdini</td>\n",
              "      <td>Houdini</td>\n",
              "      <td>Eminem</td>\n",
              "      <td>5/31/2024</td>\n",
              "      <td>USUG12403398</td>\n",
              "      <td>5</td>\n",
              "      <td>423.3</td>\n",
              "      <td>107,034,922</td>\n",
              "      <td>7,223</td>\n",
              "      <td>151,469,874</td>\n",
              "      <td>...</td>\n",
              "      <td>1</td>\n",
              "      <td>82.0</td>\n",
              "      <td>17,660,624</td>\n",
              "      <td>105.0</td>\n",
              "      <td>4,493,884</td>\n",
              "      <td>7,006</td>\n",
              "      <td>207,179</td>\n",
              "      <td>457,017</td>\n",
              "      <td>NaN</td>\n",
              "      <td>1</td>\n",
              "    </tr>\n",
              "  </tbody>\n",
              "</table>\n",
              "<p>5 rows × 29 columns</p>\n",
              "</div>\n",
              "    <div class=\"colab-df-buttons\">\n",
              "\n",
              "  <div class=\"colab-df-container\">\n",
              "    <button class=\"colab-df-convert\" onclick=\"convertToInteractive('df-bf0187b0-5ac6-48b5-9575-c41fc15ab902')\"\n",
              "            title=\"Convert this dataframe to an interactive table.\"\n",
              "            style=\"display:none;\">\n",
              "\n",
              "  <svg xmlns=\"http://www.w3.org/2000/svg\" height=\"24px\" viewBox=\"0 -960 960 960\">\n",
              "    <path d=\"M120-120v-720h720v720H120Zm60-500h600v-160H180v160Zm220 220h160v-160H400v160Zm0 220h160v-160H400v160ZM180-400h160v-160H180v160Zm440 0h160v-160H620v160ZM180-180h160v-160H180v160Zm440 0h160v-160H620v160Z\"/>\n",
              "  </svg>\n",
              "    </button>\n",
              "\n",
              "  <style>\n",
              "    .colab-df-container {\n",
              "      display:flex;\n",
              "      gap: 12px;\n",
              "    }\n",
              "\n",
              "    .colab-df-convert {\n",
              "      background-color: #E8F0FE;\n",
              "      border: none;\n",
              "      border-radius: 50%;\n",
              "      cursor: pointer;\n",
              "      display: none;\n",
              "      fill: #1967D2;\n",
              "      height: 32px;\n",
              "      padding: 0 0 0 0;\n",
              "      width: 32px;\n",
              "    }\n",
              "\n",
              "    .colab-df-convert:hover {\n",
              "      background-color: #E2EBFA;\n",
              "      box-shadow: 0px 1px 2px rgba(60, 64, 67, 0.3), 0px 1px 3px 1px rgba(60, 64, 67, 0.15);\n",
              "      fill: #174EA6;\n",
              "    }\n",
              "\n",
              "    .colab-df-buttons div {\n",
              "      margin-bottom: 4px;\n",
              "    }\n",
              "\n",
              "    [theme=dark] .colab-df-convert {\n",
              "      background-color: #3B4455;\n",
              "      fill: #D2E3FC;\n",
              "    }\n",
              "\n",
              "    [theme=dark] .colab-df-convert:hover {\n",
              "      background-color: #434B5C;\n",
              "      box-shadow: 0px 1px 3px 1px rgba(0, 0, 0, 0.15);\n",
              "      filter: drop-shadow(0px 1px 2px rgba(0, 0, 0, 0.3));\n",
              "      fill: #FFFFFF;\n",
              "    }\n",
              "  </style>\n",
              "\n",
              "    <script>\n",
              "      const buttonEl =\n",
              "        document.querySelector('#df-bf0187b0-5ac6-48b5-9575-c41fc15ab902 button.colab-df-convert');\n",
              "      buttonEl.style.display =\n",
              "        google.colab.kernel.accessAllowed ? 'block' : 'none';\n",
              "\n",
              "      async function convertToInteractive(key) {\n",
              "        const element = document.querySelector('#df-bf0187b0-5ac6-48b5-9575-c41fc15ab902');\n",
              "        const dataTable =\n",
              "          await google.colab.kernel.invokeFunction('convertToInteractive',\n",
              "                                                    [key], {});\n",
              "        if (!dataTable) return;\n",
              "\n",
              "        const docLinkHtml = 'Like what you see? Visit the ' +\n",
              "          '<a target=\"_blank\" href=https://colab.research.google.com/notebooks/data_table.ipynb>data table notebook</a>'\n",
              "          + ' to learn more about interactive tables.';\n",
              "        element.innerHTML = '';\n",
              "        dataTable['output_type'] = 'display_data';\n",
              "        await google.colab.output.renderOutput(dataTable, element);\n",
              "        const docLink = document.createElement('div');\n",
              "        docLink.innerHTML = docLinkHtml;\n",
              "        element.appendChild(docLink);\n",
              "      }\n",
              "    </script>\n",
              "  </div>\n",
              "\n",
              "\n",
              "<div id=\"df-0d2a803d-06ca-4de5-8f6d-f951cf5fbe06\">\n",
              "  <button class=\"colab-df-quickchart\" onclick=\"quickchart('df-0d2a803d-06ca-4de5-8f6d-f951cf5fbe06')\"\n",
              "            title=\"Suggest charts\"\n",
              "            style=\"display:none;\">\n",
              "\n",
              "<svg xmlns=\"http://www.w3.org/2000/svg\" height=\"24px\"viewBox=\"0 0 24 24\"\n",
              "     width=\"24px\">\n",
              "    <g>\n",
              "        <path d=\"M19 3H5c-1.1 0-2 .9-2 2v14c0 1.1.9 2 2 2h14c1.1 0 2-.9 2-2V5c0-1.1-.9-2-2-2zM9 17H7v-7h2v7zm4 0h-2V7h2v10zm4 0h-2v-4h2v4z\"/>\n",
              "    </g>\n",
              "</svg>\n",
              "  </button>\n",
              "\n",
              "<style>\n",
              "  .colab-df-quickchart {\n",
              "      --bg-color: #E8F0FE;\n",
              "      --fill-color: #1967D2;\n",
              "      --hover-bg-color: #E2EBFA;\n",
              "      --hover-fill-color: #174EA6;\n",
              "      --disabled-fill-color: #AAA;\n",
              "      --disabled-bg-color: #DDD;\n",
              "  }\n",
              "\n",
              "  [theme=dark] .colab-df-quickchart {\n",
              "      --bg-color: #3B4455;\n",
              "      --fill-color: #D2E3FC;\n",
              "      --hover-bg-color: #434B5C;\n",
              "      --hover-fill-color: #FFFFFF;\n",
              "      --disabled-bg-color: #3B4455;\n",
              "      --disabled-fill-color: #666;\n",
              "  }\n",
              "\n",
              "  .colab-df-quickchart {\n",
              "    background-color: var(--bg-color);\n",
              "    border: none;\n",
              "    border-radius: 50%;\n",
              "    cursor: pointer;\n",
              "    display: none;\n",
              "    fill: var(--fill-color);\n",
              "    height: 32px;\n",
              "    padding: 0;\n",
              "    width: 32px;\n",
              "  }\n",
              "\n",
              "  .colab-df-quickchart:hover {\n",
              "    background-color: var(--hover-bg-color);\n",
              "    box-shadow: 0 1px 2px rgba(60, 64, 67, 0.3), 0 1px 3px 1px rgba(60, 64, 67, 0.15);\n",
              "    fill: var(--button-hover-fill-color);\n",
              "  }\n",
              "\n",
              "  .colab-df-quickchart-complete:disabled,\n",
              "  .colab-df-quickchart-complete:disabled:hover {\n",
              "    background-color: var(--disabled-bg-color);\n",
              "    fill: var(--disabled-fill-color);\n",
              "    box-shadow: none;\n",
              "  }\n",
              "\n",
              "  .colab-df-spinner {\n",
              "    border: 2px solid var(--fill-color);\n",
              "    border-color: transparent;\n",
              "    border-bottom-color: var(--fill-color);\n",
              "    animation:\n",
              "      spin 1s steps(1) infinite;\n",
              "  }\n",
              "\n",
              "  @keyframes spin {\n",
              "    0% {\n",
              "      border-color: transparent;\n",
              "      border-bottom-color: var(--fill-color);\n",
              "      border-left-color: var(--fill-color);\n",
              "    }\n",
              "    20% {\n",
              "      border-color: transparent;\n",
              "      border-left-color: var(--fill-color);\n",
              "      border-top-color: var(--fill-color);\n",
              "    }\n",
              "    30% {\n",
              "      border-color: transparent;\n",
              "      border-left-color: var(--fill-color);\n",
              "      border-top-color: var(--fill-color);\n",
              "      border-right-color: var(--fill-color);\n",
              "    }\n",
              "    40% {\n",
              "      border-color: transparent;\n",
              "      border-right-color: var(--fill-color);\n",
              "      border-top-color: var(--fill-color);\n",
              "    }\n",
              "    60% {\n",
              "      border-color: transparent;\n",
              "      border-right-color: var(--fill-color);\n",
              "    }\n",
              "    80% {\n",
              "      border-color: transparent;\n",
              "      border-right-color: var(--fill-color);\n",
              "      border-bottom-color: var(--fill-color);\n",
              "    }\n",
              "    90% {\n",
              "      border-color: transparent;\n",
              "      border-bottom-color: var(--fill-color);\n",
              "    }\n",
              "  }\n",
              "</style>\n",
              "\n",
              "  <script>\n",
              "    async function quickchart(key) {\n",
              "      const quickchartButtonEl =\n",
              "        document.querySelector('#' + key + ' button');\n",
              "      quickchartButtonEl.disabled = true;  // To prevent multiple clicks.\n",
              "      quickchartButtonEl.classList.add('colab-df-spinner');\n",
              "      try {\n",
              "        const charts = await google.colab.kernel.invokeFunction(\n",
              "            'suggestCharts', [key], {});\n",
              "      } catch (error) {\n",
              "        console.error('Error during call to suggestCharts:', error);\n",
              "      }\n",
              "      quickchartButtonEl.classList.remove('colab-df-spinner');\n",
              "      quickchartButtonEl.classList.add('colab-df-quickchart-complete');\n",
              "    }\n",
              "    (() => {\n",
              "      let quickchartButtonEl =\n",
              "        document.querySelector('#df-0d2a803d-06ca-4de5-8f6d-f951cf5fbe06 button');\n",
              "      quickchartButtonEl.style.display =\n",
              "        google.colab.kernel.accessAllowed ? 'block' : 'none';\n",
              "    })();\n",
              "  </script>\n",
              "</div>\n",
              "\n",
              "    </div>\n",
              "  </div>\n"
            ],
            "application/vnd.google.colaboratory.intrinsic+json": {
              "type": "dataframe",
              "variable_name": "spotify_df"
            }
          },
          "metadata": {},
          "execution_count": 44
        }
      ]
    },
    {
      "cell_type": "code",
      "source": [
        "# Variables\n",
        "song_count = 5\n",
        "platform = \"Spotify\""
      ],
      "metadata": {
        "id": "rVd6fXkDvTWL"
      },
      "execution_count": 45,
      "outputs": []
    },
    {
      "cell_type": "code",
      "source": [
        "# List of songs (each song represented as a dictionary)\n",
        "songs = [\n",
        "    {\"title\": \"Song A\", \"artist\": \"Artist 1\", \"streams\": 500000},\n",
        "    {\"title\": \"Song B\", \"artist\": \"Artist 2\", \"streams\": 1500000},\n",
        "    {\"title\": \"Song C\", \"artist\": \"Artist 3\", \"streams\": 750000},\n",
        "    {\"title\": \"Song D\", \"artist\": \"Artist 4\", \"streams\": 2000000},\n",
        "    {\"title\": \"Song E\", \"artist\": \"Artist 5\", \"streams\": 1000000}\n",
        "]"
      ],
      "metadata": {
        "id": "GB9QqucvvaoE"
      },
      "execution_count": 46,
      "outputs": []
    },
    {
      "cell_type": "code",
      "source": [
        "# Function to classify songs based on stream count\n",
        "def classify_song(streams):\n",
        "    if streams >= 1000000:\n",
        "        return \"Hit Song\"\n",
        "    else:\n",
        "        return \"Regular Song\""
      ],
      "metadata": {
        "id": "qI0MH4pRvp3C"
      },
      "execution_count": 47,
      "outputs": []
    },
    {
      "cell_type": "code",
      "source": [
        "# Looping through songs and applying classification\n",
        "for song in songs:\n",
        "    classification = classify_song(song[\"streams\"])\n",
        "    print(f\"{song['title']} by {song['artist']} is a {classification} with {song['streams']} streams.\")\n",
        " # Conditional statement to check if the song is a hit (Corrected indentation)\n",
        "    if classification == \"Hit Song\":\n",
        "        print(f\"{song['title']} is very popular!\")\n",
        "    else:\n",
        "        print(f\"{song['title']} needs more streams to become a hit.\")"
      ],
      "metadata": {
        "colab": {
          "base_uri": "https://localhost:8080/"
        },
        "collapsed": true,
        "id": "vxq9QfOovrzP",
        "outputId": "60f39760-d5ba-4f26-8851-2ccf34625011"
      },
      "execution_count": 48,
      "outputs": [
        {
          "output_type": "stream",
          "name": "stdout",
          "text": [
            "Song A by Artist 1 is a Regular Song with 500000 streams.\n",
            "Song A needs more streams to become a hit.\n",
            "Song B by Artist 2 is a Hit Song with 1500000 streams.\n",
            "Song B is very popular!\n",
            "Song C by Artist 3 is a Regular Song with 750000 streams.\n",
            "Song C needs more streams to become a hit.\n",
            "Song D by Artist 4 is a Hit Song with 2000000 streams.\n",
            "Song D is very popular!\n",
            "Song E by Artist 5 is a Hit Song with 1000000 streams.\n",
            "Song E is very popular!\n"
          ]
        }
      ]
    },
    {
      "cell_type": "code",
      "source": [
        "import pandas as pd\n",
        "\n",
        "# Variables\n",
        "song_count = 5\n",
        "platform = \"Spotify\""
      ],
      "metadata": {
        "id": "_BWUqbV1UwBk"
      },
      "execution_count": 49,
      "outputs": []
    },
    {
      "cell_type": "code",
      "source": [
        "# Load dataset\n",
        "df = pd.DataFrame([\n",
        "    {\"title\": \"Song A\", \"artist\": \"Artist 1\", \"streams\": 500000},\n",
        "    {\"title\": \"Song B\", \"artist\": \"Artist 2\", \"streams\": 1500000},\n",
        "    {\"title\": \"Song C\", \"artist\": \"Artist 3\", \"streams\": 750000},\n",
        "    {\"title\": \"Song D\", \"artist\": \"Artist 4\", \"streams\": 2000000},\n",
        "    {\"title\": \"Song E\", \"artist\": \"Artist 5\", \"streams\": 1000000}\n",
        "])"
      ],
      "metadata": {
        "id": "0WucRBFRVVY3"
      },
      "execution_count": 50,
      "outputs": []
    },
    {
      "cell_type": "code",
      "source": [
        "# Inspect dataset\n",
        "print(df.info())\n",
        "print(df.head())"
      ],
      "metadata": {
        "collapsed": true,
        "colab": {
          "base_uri": "https://localhost:8080/"
        },
        "id": "WjcMKi--VaF1",
        "outputId": "e3ed0aca-978a-449a-f7c0-041e574c3190"
      },
      "execution_count": 51,
      "outputs": [
        {
          "output_type": "stream",
          "name": "stdout",
          "text": [
            "<class 'pandas.core.frame.DataFrame'>\n",
            "RangeIndex: 5 entries, 0 to 4\n",
            "Data columns (total 3 columns):\n",
            " #   Column   Non-Null Count  Dtype \n",
            "---  ------   --------------  ----- \n",
            " 0   title    5 non-null      object\n",
            " 1   artist   5 non-null      object\n",
            " 2   streams  5 non-null      int64 \n",
            "dtypes: int64(1), object(2)\n",
            "memory usage: 252.0+ bytes\n",
            "None\n",
            "    title    artist  streams\n",
            "0  Song A  Artist 1   500000\n",
            "1  Song B  Artist 2  1500000\n",
            "2  Song C  Artist 3   750000\n",
            "3  Song D  Artist 4  2000000\n",
            "4  Song E  Artist 5  1000000\n"
          ]
        }
      ]
    },
    {
      "cell_type": "code",
      "source": [
        "# Handle missing values and duplicates\n",
        "df.dropna(inplace=True)\n",
        "df.drop_duplicates(inplace=True)"
      ],
      "metadata": {
        "id": "MD2No-7jVdlR"
      },
      "execution_count": 52,
      "outputs": []
    },
    {
      "cell_type": "code",
      "source": [
        "# Handle missing values and duplicates\n",
        "df.dropna(thresh=df.shape[1] - 1, inplace=True)  # Remove rows where many values are missing\n",
        "df.drop_duplicates(inplace=True)\n"
      ],
      "metadata": {
        "id": "GzPNUmvOZk3Z"
      },
      "execution_count": 62,
      "outputs": []
    },
    {
      "cell_type": "code",
      "source": [
        "print(spotify_df)"
      ],
      "metadata": {
        "colab": {
          "base_uri": "https://localhost:8080/"
        },
        "collapsed": true,
        "id": "xvRZfq7oZnnC",
        "outputId": "f633efa1-6782-46db-f388-98cf7636e53f"
      },
      "execution_count": 63,
      "outputs": [
        {
          "output_type": "stream",
          "name": "stdout",
          "text": [
            "                                Track                        Album Name  \\\n",
            "0                 MILLION DOLLAR BABY      Million Dollar Baby - Single   \n",
            "1                         Not Like Us                       Not Like Us   \n",
            "2          i like the way you kiss me        I like the way you kiss me   \n",
            "3                             Flowers                  Flowers - Single   \n",
            "4                             Houdini                           Houdini   \n",
            "...                               ...                               ...   \n",
            "4595                For the Last Time                 For the Last Time   \n",
            "4596                 Dil Meri Na Sune  Dil Meri Na Sune (From \"Genius\")   \n",
            "4597            Grace (feat. 42 Dugg)                           My Turn   \n",
            "4598              Nashe Si Chadh Gayi             November Top 10 Songs   \n",
            "4599  Me Acostumbre (feat. Bad Bunny)   Me Acostumbre (feat. Bad Bunny)   \n",
            "\n",
            "              Artist Release Date          ISRC All Time Rank  Track Score  \\\n",
            "0      Tommy Richman    4/26/2024  QM24S2402528             1        725.4   \n",
            "1     Kendrick Lamar     5/4/2024  USUG12400910             2        545.9   \n",
            "2            Artemas    3/19/2024  QZJ842400387             3        538.4   \n",
            "3        Miley Cyrus    1/12/2023  USSM12209777             4        444.9   \n",
            "4             Eminem    5/31/2024  USUG12403398             5        423.3   \n",
            "...              ...          ...           ...           ...          ...   \n",
            "4595     $uicideboy$     9/5/2017  QM8DG1703420         4,585         19.4   \n",
            "4596      Atif Aslam    7/27/2018  INT101800122         4,575         19.4   \n",
            "4597        Lil Baby    2/28/2020  USUG12000043         4,571         19.4   \n",
            "4598    Arijit Singh    11/8/2016  INY091600067         4,591         19.4   \n",
            "4599       Arcï¿½ï¿½    4/11/2017  USB271700107         4,593         19.4   \n",
            "\n",
            "     Spotify Streams Spotify Playlist Count Spotify Playlist Reach  ...  \\\n",
            "0        390,470,936                 30,716            196,631,588  ...   \n",
            "1        323,703,884                 28,113            174,597,137  ...   \n",
            "2        601,309,283                 54,331            211,607,669  ...   \n",
            "3      2,031,280,633                269,802            136,569,078  ...   \n",
            "4        107,034,922                  7,223            151,469,874  ...   \n",
            "...              ...                    ...                    ...  ...   \n",
            "4595     305,049,963                 65,770              5,103,054  ...   \n",
            "4596      52,282,360                  4,602              1,449,767  ...   \n",
            "4597     189,972,685                 72,066              6,704,802  ...   \n",
            "4598     145,467,020                 14,037              7,387,064  ...   \n",
            "4599     255,740,653                 32,138             14,066,526  ...   \n",
            "\n",
            "      SiriusXM Spins Deezer Playlist Count Deezer Playlist Reach  \\\n",
            "0                684                  62.0            17,598,718   \n",
            "1                  3                  67.0            10,422,430   \n",
            "2                536                 136.0            36,321,847   \n",
            "3              2,182                 264.0            24,684,248   \n",
            "4                  1                  82.0            17,660,624   \n",
            "...              ...                   ...                   ...   \n",
            "4595             NaN                   2.0                14,217   \n",
            "4596             NaN                   1.0                   927   \n",
            "4597             NaN                   1.0                    74   \n",
            "4598             NaN                   NaN                   NaN   \n",
            "4599             NaN                   4.0               127,479   \n",
            "\n",
            "     Amazon Playlist Count Pandora Streams Pandora Track Stations  \\\n",
            "0                    114.0      18,004,655                 22,931   \n",
            "1                    111.0       7,780,028                 28,444   \n",
            "2                    172.0       5,022,621                  5,639   \n",
            "3                    210.0     190,260,277                203,384   \n",
            "4                    105.0       4,493,884                  7,006   \n",
            "...                    ...             ...                    ...   \n",
            "4595                   NaN      20,104,066                 13,184   \n",
            "4596                   NaN             NaN                    NaN   \n",
            "4597                   6.0      84,426,740                 28,999   \n",
            "4598                   7.0       6,817,840                    NaN   \n",
            "4599                   4.0      69,006,739                 11,320   \n",
            "\n",
            "     Soundcloud Streams  Shazam Counts TIDAL Popularity Explicit Track  \n",
            "0             4,818,457      2,669,262              NaN              0  \n",
            "1             6,623,075      1,118,279              NaN              1  \n",
            "2             7,208,651      5,285,340              NaN              0  \n",
            "3                   NaN     11,822,942              NaN              0  \n",
            "4               207,179        457,017              NaN              1  \n",
            "...                 ...            ...              ...            ...  \n",
            "4595         50,633,006        656,337              NaN              1  \n",
            "4596                NaN        193,590              NaN              0  \n",
            "4597                NaN      1,135,998              NaN              1  \n",
            "4598                NaN        448,292              NaN              0  \n",
            "4599                NaN        767,006              NaN              1  \n",
            "\n",
            "[4600 rows x 29 columns]\n"
          ]
        }
      ]
    },
    {
      "cell_type": "code",
      "source": [
        "# Function to classify songs based on stream count\n",
        "def classify_song(streams):\n",
        "    return \"Hit Song\" if streams >= 1000000 else \"Regular Song\"\n"
      ],
      "metadata": {
        "id": "95Z_8hdGVj_W"
      },
      "execution_count": 64,
      "outputs": []
    },
    {
      "cell_type": "code",
      "source": [
        "df[\"classification\"] = df[\"streams\"].apply(classify_song)\n"
      ],
      "metadata": {
        "id": "EBu-1TbtVtsb"
      },
      "execution_count": 65,
      "outputs": []
    },
    {
      "cell_type": "code",
      "source": [
        "# Function to get the most streamed song\n",
        "def most_streamed_song(df):\n",
        "    return df.loc[df[\"streams\"].idxmax()]\n"
      ],
      "metadata": {
        "id": "Ma8GHWxRVyES"
      },
      "execution_count": 66,
      "outputs": []
    },
    {
      "cell_type": "code",
      "source": [
        "# Filter, sort, and group data\n",
        "hit_songs = df[df[\"classification\"] == \"Hit Song\"]\n",
        "sorted_songs = df.sort_values(by=\"streams\", ascending=False)\n",
        "# Only include numeric columns in the mean calculation\n",
        "grouped_songs = df.groupby(\"classification\")['streams'].mean()"
      ],
      "metadata": {
        "id": "WnFbmnlGV1mO"
      },
      "execution_count": 67,
      "outputs": []
    },
    {
      "cell_type": "code",
      "source": [
        "# Display results\n",
        "print(\"Filtered Hit Songs:\")\n",
        "print(hit_songs)\n",
        "print(\"\\nSorted Songs by Streams:\")\n",
        "print(sorted_songs)\n",
        "print(\"\\nAverage Streams per Classification:\")\n",
        "print(grouped_songs)"
      ],
      "metadata": {
        "colab": {
          "base_uri": "https://localhost:8080/"
        },
        "id": "xsEfVeaZWRvR",
        "outputId": "12790f62-e8b2-4b15-a6c6-715f21e45870"
      },
      "execution_count": 68,
      "outputs": [
        {
          "output_type": "stream",
          "name": "stdout",
          "text": [
            "Filtered Hit Songs:\n",
            "    title    artist  streams classification\n",
            "1  Song B  Artist 2  1500000       Hit Song\n",
            "3  Song D  Artist 4  2000000       Hit Song\n",
            "4  Song E  Artist 5  1000000       Hit Song\n",
            "\n",
            "Sorted Songs by Streams:\n",
            "    title    artist  streams classification\n",
            "3  Song D  Artist 4  2000000       Hit Song\n",
            "1  Song B  Artist 2  1500000       Hit Song\n",
            "4  Song E  Artist 5  1000000       Hit Song\n",
            "2  Song C  Artist 3   750000   Regular Song\n",
            "0  Song A  Artist 1   500000   Regular Song\n",
            "\n",
            "Average Streams per Classification:\n",
            "classification\n",
            "Hit Song        1500000.0\n",
            "Regular Song     625000.0\n",
            "Name: streams, dtype: float64\n"
          ]
        }
      ]
    },
    {
      "cell_type": "code",
      "source": [
        "# Find and print the most streamed song\n",
        "most_streamed = most_streamed_song(df)\n",
        "print(f\"The most streamed song is {most_streamed['title']} by {most_streamed['artist']} with {most_streamed['streams']} streams.\")"
      ],
      "metadata": {
        "colab": {
          "base_uri": "https://localhost:8080/"
        },
        "id": "X15Zz9jCWXTQ",
        "outputId": "128b3f0a-de92-4a17-fd39-1fba3e1434a8"
      },
      "execution_count": 69,
      "outputs": [
        {
          "output_type": "stream",
          "name": "stdout",
          "text": [
            "The most streamed song is Song D by Artist 4 with 2000000 streams.\n"
          ]
        }
      ]
    },
    {
      "cell_type": "code",
      "source": [
        "df.drop(columns=[\"TIDAL_Popularity\"], inplace=True, errors='ignore')\n"
      ],
      "metadata": {
        "id": "W0HNat_1YL5v"
      },
      "execution_count": 70,
      "outputs": []
    },
    {
      "cell_type": "code",
      "source": [
        "\n",
        "# Perform mathematical operations\n",
        "total_streams = df[\"streams\"].sum()\n",
        "average_streams = df[\"streams\"].mean()\n",
        "percentage_hit_songs = (df[df[\"classification\"] == \"Hit Song\"].shape[0] / df.shape[0]) * 100\n"
      ],
      "metadata": {
        "id": "qS7Ksop7eDAa"
      },
      "execution_count": 78,
      "outputs": []
    },
    {
      "cell_type": "code",
      "source": [
        "# Filter, sort, and group data\n",
        "hit_songs = df[df[\"classification\"] == \"Hit Song\"]\n",
        "sorted_songs = df.sort_values(by=\"streams\", ascending=False)\n",
        "# Only include numeric columns in the mean calculation\n",
        "grouped_songs = df.groupby(\"classification\")['streams'].mean()"
      ],
      "metadata": {
        "id": "KqB9AQjRecV3"
      },
      "execution_count": 80,
      "outputs": []
    },
    {
      "cell_type": "code",
      "source": [
        "# Display results\n",
        "print(\"Total Streams:\", total_streams)\n",
        "print(\"Average Streams per Song:\", average_streams)\n",
        "print(\"Percentage of Hit Songs:\", percentage_hit_songs, \"%\")\n",
        "print(\"Filtered Hit Songs:\")\n",
        "print(hit_songs)\n",
        "print(\"\\nSorted Songs by Streams:\")\n",
        "print(sorted_songs)\n",
        "print(\"\\nAverage Streams per Classification:\")\n",
        "print(grouped_songs)"
      ],
      "metadata": {
        "colab": {
          "base_uri": "https://localhost:8080/"
        },
        "collapsed": true,
        "id": "oZEJPltOeuxU",
        "outputId": "c6ccb014-65d5-4cf0-978f-6cf670a7e856"
      },
      "execution_count": 81,
      "outputs": [
        {
          "output_type": "stream",
          "name": "stdout",
          "text": [
            "Total Streams: 5750000\n",
            "Average Streams per Song: 1150000.0\n",
            "Percentage of Hit Songs: 60.0 %\n",
            "Filtered Hit Songs:\n",
            "    title    artist  streams classification\n",
            "1  Song B  Artist 2  1500000       Hit Song\n",
            "3  Song D  Artist 4  2000000       Hit Song\n",
            "4  Song E  Artist 5  1000000       Hit Song\n",
            "\n",
            "Sorted Songs by Streams:\n",
            "    title    artist  streams classification\n",
            "3  Song D  Artist 4  2000000       Hit Song\n",
            "1  Song B  Artist 2  1500000       Hit Song\n",
            "4  Song E  Artist 5  1000000       Hit Song\n",
            "2  Song C  Artist 3   750000   Regular Song\n",
            "0  Song A  Artist 1   500000   Regular Song\n",
            "\n",
            "Average Streams per Classification:\n",
            "classification\n",
            "Hit Song        1500000.0\n",
            "Regular Song     625000.0\n",
            "Name: streams, dtype: float64\n"
          ]
        }
      ]
    },
    {
      "cell_type": "code",
      "source": [
        "# Data Visualization\n",
        "\n",
        "# Bar chart to show streams per song\n",
        "plt.figure(figsize=(8, 5))\n",
        "sns.barplot(x=df[\"title\"], y=df[\"streams\"], palette=\"viridis\")\n",
        "plt.title(\"Streams per Song\")\n",
        "plt.xlabel(\"Song Title\")\n",
        "plt.ylabel(\"Streams\")\n",
        "plt.xticks(rotation=45)\n",
        "plt.show()"
      ],
      "metadata": {
        "colab": {
          "base_uri": "https://localhost:8080/",
          "height": 603
        },
        "id": "RuPB8plSe-D9",
        "outputId": "fa5a76ac-571d-4296-fc7d-49e253898e2b"
      },
      "execution_count": 82,
      "outputs": [
        {
          "output_type": "stream",
          "name": "stderr",
          "text": [
            "<ipython-input-82-351f316987e8>:5: FutureWarning: \n",
            "\n",
            "Passing `palette` without assigning `hue` is deprecated and will be removed in v0.14.0. Assign the `x` variable to `hue` and set `legend=False` for the same effect.\n",
            "\n",
            "  sns.barplot(x=df[\"title\"], y=df[\"streams\"], palette=\"viridis\")\n"
          ]
        },
        {
          "output_type": "display_data",
          "data": {
            "text/plain": [
              "<Figure size 800x500 with 1 Axes>"
            ],
            "image/png": "[encoded data removed]"
          },
          "metadata": {}
        }
      ]
    },
    {
      "cell_type": "code",
      "source": [
        "# Scatter plot to show relationship between song index and streams\n",
        "plt.figure(figsize=(8, 5))\n",
        "sns.scatterplot(x=range(len(df)), y=df[\"streams\"], hue=df[\"classification\"], palette=\"coolwarm\", s=100)\n",
        "plt.title(\"Scatter Plot of Streams\")\n",
        "plt.xlabel(\"Song Index\")\n",
        "plt.ylabel(\"Streams\")\n",
        "plt.show()"
      ],
      "metadata": {
        "colab": {
          "base_uri": "https://localhost:8080/",
          "height": 469
        },
        "id": "J8R2BVXPgBXi",
        "outputId": "73db8000-b938-4003-9be1-12c1505e1772"
      },
      "execution_count": 85,
      "outputs": [
        {
          "output_type": "display_data",
          "data": {
            "text/plain": [
              "<Figure size 800x500 with 1 Axes>"
            ],
            "image/png": "[encoded data removed]"
          },
          "metadata": {}
        }
      ]
    },
    {
      "cell_type": "code",
      "source": [
        "# Histogram to show distribution of streams\n",
        "plt.figure(figsize=(8, 5))\n",
        "sns.histplot(df[\"streams\"], bins=5, kde=True, color=\"blue\")\n",
        "plt.title(\"Distribution of Streams\")\n",
        "plt.xlabel(\"Streams\")\n",
        "plt.ylabel(\"Frequency\")\n",
        "plt.show()"
      ],
      "metadata": {
        "colab": {
          "base_uri": "https://localhost:8080/",
          "height": 463
        },
        "id": "v530nLNnff9h",
        "outputId": "3d5f135c-71fb-41c4-9f10-e66765b6593a"
      },
      "execution_count": 83,
      "outputs": [
        {
          "output_type": "display_data",
          "data": {
            "text/plain": [
              "<Figure size 800x500 with 1 Axes>"
            ],
            "image/png": "[encoded data removed]"
          },
          "metadata": {}
        }
      ]
    },
    {
      "cell_type": "code",
      "source": [
        "# Heatmap to show correlation between numerical values\n",
        "plt.figure(figsize=(6, 4))\n",
        "sns.heatmap(df.corr(numeric_only=True), annot=True, cmap=\"coolwarm\", linewidths=0.5)\n",
        "plt.title(\"Heatmap of Numerical Data Correlations\")\n",
        "plt.show()\n"
      ],
      "metadata": {
        "colab": {
          "base_uri": "https://localhost:8080/",
          "height": 391
        },
        "id": "Sx8UIXJ0gdk8",
        "outputId": "b82129cd-e0d4-4197-c1c9-4403828889a3"
      },
      "execution_count": 86,
      "outputs": [
        {
          "output_type": "display_data",
          "data": {
            "text/plain": [
              "<Figure size 600x400 with 2 Axes>"
            ],
            "image/png": "[encoded data removed]"
          },
          "metadata": {}
        }
      ]
    },
    {
      "cell_type": "code",
      "source": [
        "# Boxplot to show spread of streams\n",
        "plt.figure(figsize=(6, 4))\n",
        "sns.boxplot(y=df[\"streams\"], color=\"orange\")\n",
        "plt.title(\"Boxplot of Streams\")\n",
        "plt.ylabel(\"Streams\")\n",
        "plt.show()"
      ],
      "metadata": {
        "colab": {
          "base_uri": "https://localhost:8080/",
          "height": 372
        },
        "id": "f_eBgV_Dfm7N",
        "outputId": "da378da2-a1b2-4383-c3b6-af2465aae320"
      },
      "execution_count": 84,
      "outputs": [
        {
          "output_type": "display_data",
          "data": {
            "text/plain": [
              "<Figure size 600x400 with 1 Axes>"
            ],
            "image/png": "[encoded data removed]"
          },
          "metadata": {}
        }
      ]
    },
    {
      "cell_type": "code",
      "source": [
        "# Install the sqlalchemy package\n",
        "!pip install sqlalchemy\n",
        "\n",
        "# Import the create_engine function from sqlalchemy\n",
        "from sqlalchemy import create_engine\n",
        "\n",
        "# Store data in SQL database\n",
        "engine = create_engine('sqlite:///spotify_songs.db')\n",
        "df.to_sql('songs', con=engine, if_exists='replace', index=False)"
      ],
      "metadata": {
        "colab": {
          "base_uri": "https://localhost:8080/"
        },
        "id": "NQyKQhPohr-_",
        "outputId": "922a2f98-1941-433d-d2d7-e62cca488825"
      },
      "execution_count": 88,
      "outputs": [
        {
          "output_type": "stream",
          "name": "stdout",
          "text": [
            "Requirement already satisfied: sqlalchemy in /usr/local/lib/python3.11/dist-packages (2.0.37)\n",
            "Requirement already satisfied: greenlet!=0.4.17 in /usr/local/lib/python3.11/dist-packages (from sqlalchemy) (3.1.1)\n",
            "Requirement already satisfied: typing-extensions>=4.6.0 in /usr/local/lib/python3.11/dist-packages (from sqlalchemy) (4.12.2)\n"
          ]
        },
        {
          "output_type": "execute_result",
          "data": {
            "text/plain": [
              "5"
            ]
          },
          "metadata": {},
          "execution_count": 88
        }
      ]
    },
    {
      "cell_type": "code",
      "source": [
        "# Query database for insights\n",
        "query = \"SELECT classification, AVG(streams) as avg_streams FROM songs GROUP BY classification\"\n",
        "result = pd.read_sql(query, con=engine)\n",
        "print(\"\\nAverage Streams by Classification:\")\n",
        "print(result)\n"
      ],
      "metadata": {
        "colab": {
          "base_uri": "https://localhost:8080/"
        },
        "id": "QQjz08o-h8Sh",
        "outputId": "a77a3a5f-f022-4f65-8fe2-c7fd25f1d79c"
      },
      "execution_count": 89,
      "outputs": [
        {
          "output_type": "stream",
          "name": "stdout",
          "text": [
            "\n",
            "Average Streams by Classification:\n",
            "  classification  avg_streams\n",
            "0       Hit Song    1500000.0\n",
            "1   Regular Song     625000.0\n"
          ]
        }
      ]
    },
    {
      "cell_type": "code",
      "source": [
        "#Interpretation"
      ],
      "metadata": {
        "id": "6ph58x6QiMZM"
      },
      "execution_count": 90,
      "outputs": []
    },
    {
      "cell_type": "code",
      "source": [],
      "metadata": {
        "id": "HyPsS6nTiskQ"
      },
      "execution_count": null,
      "outputs": []
    }
  ]
}